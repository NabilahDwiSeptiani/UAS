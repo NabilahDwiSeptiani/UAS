{
 "cells": [
  {
   "cell_type": "code",
   "execution_count": 33,
   "metadata": {
    "vscode": {
     "languageId": "shellscript"
    }
   },
   "outputs": [],
   "source": [
    "#!/bin/bash\n",
    "\n",
    "# Variables for directory and filenames\n",
    "WORKDIR=$PWD/NGS_Workflow\n",
    "REF_GENOME_DIR=\"${WORKDIR}/Reference_Genome\"\n",
    "tracking_DIR=\"${WORKDIR}/Fastq_Data\"\n",
    "TRIMMED_DIR=\"${WORKDIR}/Trimmed_Data\"\n",
    "RESULTS_DIR=\"${WORKDIR}/Results\"\n",
    "QC_DIR=\"${RESULTS_DIR}/QC\"\n",
    "REF_GENOME=\"${REF_GENOME_DIR}/S288C_reference_sequence_R64-4-1_20230830.tracking\"\n",
    "REF_GENOME_ARCHIVE=\"S288C_reference_genome_Current_Release.tgz\"\n",
    "REF_GENOME_URL=\"http://downloads.yeastgenome.org/sequence/S288C_reference/genome_releases/S288C_reference_genome_Current_Release.tgz\"\n",
    "\n",
    "tracking_URL=\"https://ftp.ncbi.nlm.nih.gov/geo/samples/GSM2527nnn/GSM2527967/GSM2527967_PMD4a.fpkm_tracking.gz\"\n",
    "tracking=GSM2527967_PMD4a.fpkm_tracking.gz "
   ]
  },
  {
   "cell_type": "code",
   "execution_count": 34,
   "metadata": {
    "vscode": {
     "languageId": "shellscript"
    }
   },
   "outputs": [],
   "source": [
    "# Creating directories\n",
    "mkdir -p \"${WORKDIR}\" \"${REF_GENOME_DIR}\" \"${tracking_DIR}\" \"${TRIMMED_DIR}\" \"${RESULTS_DIR}\" \"${QC_DIR}\"\n",
    "cd \"${WORKDIR}\""
   ]
  },
  {
   "cell_type": "code",
   "execution_count": 35,
   "metadata": {
    "vscode": {
     "languageId": "shellscript"
    }
   },
   "outputs": [
    {
     "name": "stdout",
     "output_type": "stream",
     "text": [
      "--2024-01-07 21:20:23--  http://downloads.yeastgenome.org/sequence/S288C_reference/genome_releases/S288C_reference_genome_Current_Release.tgz\n",
      "Resolving downloads.yeastgenome.org (downloads.yeastgenome.org)... 52.12.181.3, 54.148.130.184, 54.148.109.74, ...\n",
      "Connecting to downloads.yeastgenome.org (downloads.yeastgenome.org)|52.12.181.3|:80... connected.\n",
      "HTTP request sent, awaiting response... 302 Found\n",
      "Location: http://sgd-archive.yeastgenome.org/sequence/S288C_reference/genome_releases/S288C_reference_genome_Current_Release.tgz [following]\n",
      "--2024-01-07 21:20:27--  http://sgd-archive.yeastgenome.org/sequence/S288C_reference/genome_releases/S288C_reference_genome_Current_Release.tgz\n",
      "Resolving sgd-archive.yeastgenome.org (sgd-archive.yeastgenome.org)... 52.92.227.107, 52.218.179.51, 52.92.227.43, ...\n",
      "Connecting to sgd-archive.yeastgenome.org (sgd-archive.yeastgenome.org)|52.92.227.107|:80... connected.\n",
      "HTTP request sent, awaiting response... 200 OK\n",
      "Length: 21142292 (20M) [application/gzip]\n",
      "Saving to: ‘/home/nabilah/Documents/teaching_linux_bash/examples/ngs_workflow/NGS_Workflow/NGS_Workflow/NGS_Workflow/NGS_Workflow/Reference_Genome/S288C_reference_genome_Current_Release.tgz’\n",
      "\n",
      "nome_Current_Releas  80%[===============>    ]  16,14M  --.-KB/s    eta 7m 53s \r"
     ]
    }
   ],
   "source": [
    "# Step 1: Setup and Data Download\n",
    "# Downloading the reference genome if it does not exist or is empty\n",
    "if [ ! -s \"${REF_GENOME_DIR}/${REF_GENOME_ARCHIVE}\" ]; then\n",
    "    wget -P \"${REF_GENOME_DIR}\" $REF_GENOME_URL\n",
    "    tar -xzvf \"${REF_GENOME_DIR}/${REF_GENOME_ARCHIVE}\" -C \"${REF_GENOME_DIR}\"\n",
    "else\n",
    "    echo \"Reference genome archive already exists and is not empty.\"\n",
    "fi\n",
    "\n",
    "#find \"${REF_GENOME_DIR}\" -name \"*reference*.fsa.gz\" -exec echo genome file: {} \\;\n",
    "find \"${REF_GENOME_DIR}\" -name \"*reference*.fsa.gz\" -exec gunzip -d {} > \"${REF_GENOME}\" \\;\n",
    "\n",
    "# Downloading FASTQ files if they do not exist or are empty\n",
    "if [ ! -s \"${tracking_DIR}/${tracking}\" ]; then\n",
    "    wget -P \"${tracking_DIR}\" \"${tracking_URL}\"\n",
    "else\n",
    "    echo \"tracking file already exists and is not empty.\"\n",
    "fi\n"
   ]
  },
  {
   "cell_type": "code",
   "execution_count": 10,
   "metadata": {
    "vscode": {
     "languageId": "shellscript"
    }
   },
   "outputs": [
    {
     "name": "stdout",
     "output_type": "stream",
     "text": [
      "Skipping '/home/nabilah/Documents/teaching_linux_bash/examples/ngs_workflow/NGS_Workflow/NGS_Workflow/Fastq_Data/*.fasta.gz' which didn't exist, or couldn't be read\n"
     ]
    }
   ],
   "source": [
    "# Step 2: Quality Control with FastQC\n",
    "tracking \"${tracking_DIR}\"/*.tracking.gz -o \"${QC_DIR}\""
   ]
  },
  {
   "cell_type": "code",
   "execution_count": 18,
   "metadata": {
    "vscode": {
     "languageId": "shellscript"
    }
   },
   "outputs": [
    {
     "name": "stdout",
     "output_type": "stream",
     "text": [
      "trimmomatic PE -phred33 / /trimmed.fasta.gz /unpaired.fasta.gz LEADING:3 TRAILING:3 SLIDINGWINDOW:4:15 MINLEN:36\n"
     ]
    }
   ],
   "source": [
    "# Step 3: Read Trimming using Trimmomatic\n",
    "echo trimmomatic PE -phred33 \\\n",
    "\"${tracking_DIR}/${tracking}\" \\\n",
    "\"${TRIMMED_DIR}/trimmed.tracking.gz\" \"${TRIMMED_DIR}/unpaired.tracking.gz\" \\\n",
    "LEADING:3 TRAILING:3 SLIDINGWINDOW:4:15 MINLEN:36"
   ]
  },
  {
   "cell_type": "code",
   "execution_count": 21,
   "metadata": {
    "vscode": {
     "languageId": "shellscript"
    }
   },
   "outputs": [
    {
     "name": "stdout",
     "output_type": "stream",
     "text": [
      "bash: /.sai: Permission denied\n"
     ]
    },
    {
     "name": "stdout",
     "output_type": "stream",
     "text": [
      "bash: /aligned_reads1.sam: Permission denied\n",
      "exit\n",
      "Restarting Bash\n"
     ]
    }
   ],
   "source": [
    "# Step 4: Read Alignment\n",
    "# bwa index \"${REF_GENOME}\"\n",
    "# echo bwa mem \"${REF_GENOME}\" \"${TRIMMED_DIR}/trimmed_R1.fastq.gz\" \"${TRIMMED_DIR}/trimmed_R2.fastq.gz\" > \"${RESULTS_DIR}/aligned_reads.sam\"\n",
    "# Illumina paired-end reads shorter than ~70bp:\n",
    "# bwa aln ref.fa read1.fq > read1.sai; bwa aln ref.fa read2.fq > read2.sai\n",
    "# bwa sampe ref.fa read1.sai read2.sai read1.fq read2.fq > aln-pe.sam\n",
    "bwa aln \"${REF_GENOME}\" \"${tracking_DIR}/${tracking}\" > \"${RESULTS_DIR}/${tracking%.tracking.gz}.sai\"\n",
    "bwa sampe \"${REF_GENOME}\" \\\n",
    "\"${RESULTS_DIR}/${tracking%.tracking.gz}.sai\" \\\n",
    "\"${tracking_DIR}/${tracking}\" > \"${RESULTS_DIR}/aligned_reads1.sam\"\n",
    "\n",
    "exit 1"
   ]
  },
  {
   "cell_type": "code",
   "execution_count": 13,
   "metadata": {
    "vscode": {
     "languageId": "shellscript"
    }
   },
   "outputs": [
    {
     "name": "stdout",
     "output_type": "stream",
     "text": [
      "[E::hts_open_format] Failed to open file \"/aligned_reads.sam\" : No such file or directory\n",
      "samtools view: failed to open \"/aligned_reads.sam\" for reading: No such file or directory\n",
      "samtools sort: failed to read header from \"-\"\n",
      "qt.qpa.plugin: Could not find the Qt platform plugin \"wayland\" in \"\"\n"
     ]
    }
   ],
   "source": [
    "# Step 5: Post-Alignment Processing\n",
    "samtools view -bS \"${RESULTS_DIR}/aligned_reads.sam\" | samtools sort -o \"${RESULTS_DIR}/sorted_aligned_reads.bam\"\n",
    "picard MarkDuplicates I=\"${RESULTS_DIR}/sorted_aligned_reads.bam\" O=\"${RESULTS_DIR}/marked_duplicates.bam\" M=\"${RESULTS_DIR}/marked_dup_metrics.txt\""
   ]
  },
  {
   "cell_type": "code",
   "execution_count": 14,
   "metadata": {
    "vscode": {
     "languageId": "shellscript"
    }
   },
   "outputs": [
    {
     "name": "stdout",
     "output_type": "stream",
     "text": [
      "bash: /variants.vcf: Permission denied\n"
     ]
    },
    {
     "ename": "",
     "evalue": "1",
     "output_type": "error",
     "traceback": []
    }
   ],
   "source": [
    "# Step 6: Variant Calling\n",
    "freebayes -f \"${REF_GENOME_DIR}/${REF_GENOME}\" \"${RESULTS_DIR}/marked_duplicates.bam\" > \"${RESULTS_DIR}/variants.vcf\""
   ]
  },
  {
   "cell_type": "code",
   "execution_count": 18,
   "metadata": {
    "vscode": {
     "languageId": "shellscript"
    }
   },
   "outputs": [
    {
     "name": "stdout",
     "output_type": "stream",
     "text": [
      "Usage: multiqc [OPTIONS] <analysis directory>\n",
      "\n",
      "Error: Invalid value for '<analysis directory>': Path '' does not exist.\n",
      "\n",
      "This is MultiQC v1.12\n",
      "\n",
      "For more help, run 'multiqc --help' or visit http://multiqc.info\n",
      "\n"
     ]
    },
    {
     "ename": "",
     "evalue": "2",
     "output_type": "error",
     "traceback": []
    }
   ],
   "source": [
    "# Step 7: Quality Control Analysis with MultiQC\n",
    "multiqc \"${QC_DIR}\" -o \"${QC_DIR}\"\n"
   ]
  },
  {
   "cell_type": "code",
   "execution_count": 10,
   "metadata": {
    "vscode": {
     "languageId": "shellscript"
    }
   },
   "outputs": [
    {
     "name": "stdout",
     "output_type": "stream",
     "text": [
      "bash: /variant_stats.R: Permission denied\n"
     ]
    },
    {
     "name": "stdout",
     "output_type": "stream",
     "text": [
      "Fatal error: cannot open file '/variant_stats.R': No such file or directory\n",
      "exit\n",
      "Restarting Bash\n"
     ]
    }
   ],
   "source": [
    "# Step 8: Generating a Basic Plot for Variant Statistics with R\n",
    "echo \"\n",
    "# Load the VCF file\n",
    "library(vcfR)\n",
    "vcf <- read.vcfR('${RESULTS_DIR}/variants.vcf')\n",
    "\n",
    "# Basic variant statistics\n",
    "variant_summary <- summary(vcf)\n",
    "\n",
    "# Plotting\n",
    "pdf('${RESULTS_DIR}/variant_stats_plot.pdf')\n",
    "plot(variant_summary)\n",
    "dev.off()\n",
    "\" > \"${RESULTS_DIR}/variant_stats.R\"\n",
    "Rscript \"${RESULTS_DIR}/variant_stats.R\"\n",
    "\n",
    "exit 1\n",
    "\n",
    "# End of Workflow\n",
    "echo \"Workflow completed.\"\n"
   ]
  }
 ],
 "metadata": {
  "kernelspec": {
   "display_name": "Bash",
   "language": "bash",
   "name": "bash"
  },
  "language_info": {
   "codemirror_mode": "shell",
   "file_extension": ".sh",
   "mimetype": "text/x-sh",
   "name": "bash"
  }
 },
 "nbformat": 4,
 "nbformat_minor": 2
}
